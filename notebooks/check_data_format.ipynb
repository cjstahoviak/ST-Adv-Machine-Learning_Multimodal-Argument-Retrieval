{
 "cells": [
  {
   "cell_type": "markdown",
   "id": "c3969980",
   "metadata": {},
   "source": [
    "# Check File Type\n",
    "- Files downloaded from the database at [https://academictorrents.com/details/1614740ac8c94505e4ecb9d88be8bed7b6afddd4/tech&filelist=1] often do not have a file extension on the end. They can be in either JSON or ZST format.\n",
    "- Use this script to determine the file type of the raw data.\n",
    "\n",
    "- Then see either `./scripts/zst_to_csv.py` or `./scripts/json_to_csv.py` to convert to CSV format."
   ]
  },
  {
   "cell_type": "code",
   "execution_count": 2,
   "id": "2ee74e8c",
   "metadata": {},
   "outputs": [
    {
     "name": "stdout",
     "output_type": "stream",
     "text": [
      "Header bytes: b'{\"al'\n",
      "This file appears to be a JSON file.\n"
     ]
    }
   ],
   "source": [
    "# check_file_type.py\n",
    "# This script inspects a file to determine its type.\n",
    "# It first checks for the zstandard (zst) magic header and gzip header.\n",
    "# If those don't match, it attempts to read the file as text and checks\n",
    "# whether the first non-whitespace character indicates JSON (either '{' or '[').\n",
    "#\n",
    "# Usage:\n",
    "#   python check_file_type.py\n",
    "\n",
    "import os\n",
    "\n",
    "# Update this path to the file you want to check\n",
    "file_path = r\"..\\data\\raw\\AITAH_comments\"\n",
    "\n",
    "# Read the first 4 bytes from the file in binary mode\n",
    "with open(file_path, 'rb') as f:\n",
    "    header = f.read(4)\n",
    "print(\"Header bytes:\", header)\n",
    "\n",
    "# Check for zstandard magic header: b'\\x28\\xb5\\x2f\\xfd'\n",
    "if header == b'\\x28\\xb5\\x2f\\xfd':\n",
    "    print(\"This file appears to be a valid zst file (zstandard compressed).\")\n",
    "# Check for gzip magic header: b'\\x1f\\x8b'\n",
    "elif header.startswith(b'\\x1f\\x8b'):\n",
    "    print(\"This file appears to be a valid gzip file.\")\n",
    "else:\n",
    "    # If the file is not recognized by known binary signatures,\n",
    "    # try reading it as text and checking if it appears to be JSON.\n",
    "    try:\n",
    "        with open(file_path, 'r', encoding='utf-8') as f:\n",
    "            # Read a portion of the file and strip leading whitespace\n",
    "            initial_text = f.read(1024).lstrip()\n",
    "        if initial_text.startswith('{') or initial_text.startswith('['):\n",
    "            print(\"This file appears to be a JSON file.\")\n",
    "        else:\n",
    "            print(\"This file does not appear to be a zst, gzip, or JSON file.\")\n",
    "    except Exception as e:\n",
    "        print(\"Could not read file as text. It may be a binary file of an unknown format.\")\n",
    "        print(\"Error:\", e)\n"
   ]
  }
 ],
 "metadata": {
  "kernelspec": {
   "display_name": "st_gnn_reddit",
   "language": "python",
   "name": "python3"
  },
  "language_info": {
   "codemirror_mode": {
    "name": "ipython",
    "version": 3
   },
   "file_extension": ".py",
   "mimetype": "text/x-python",
   "name": "python",
   "nbconvert_exporter": "python",
   "pygments_lexer": "ipython3",
   "version": "3.10.16"
  }
 },
 "nbformat": 4,
 "nbformat_minor": 5
}
